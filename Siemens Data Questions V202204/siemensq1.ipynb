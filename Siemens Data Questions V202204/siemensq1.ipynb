{
 "cells": [
  {
   "cell_type": "code",
   "execution_count": 10,
   "metadata": {},
   "outputs": [],
   "source": [
    "x,y = 3,3\n",
    "def cal_(x,y):\n",
    "    if (x == 2)|(y == 2):\n",
    "        return 3\n",
    "    else:\n",
    "        return x*y - (x-2)*(y-2)"
   ]
  },
  {
   "cell_type": "code",
   "execution_count": 22,
   "metadata": {},
   "outputs": [
    {
     "data": {
      "text/plain": [
       "9"
      ]
     },
     "execution_count": 22,
     "metadata": {},
     "output_type": "execute_result"
    }
   ],
   "source": [
    "x,y = 3,4\n",
    "res = 0\n",
    "for a in range(1,x-1):\n",
    "    for b in range(1,y-1):\n",
    "        # print(a,b)\n",
    "        res+=2\n",
    "\n",
    "res+=x-1+y-1\n",
    "\n",
    "res"
   ]
  },
  {
   "cell_type": "code",
   "execution_count": null,
   "metadata": {},
   "outputs": [],
   "source": []
  },
  {
   "cell_type": "code",
   "execution_count": 3,
   "metadata": {},
   "outputs": [],
   "source": [
    "# load data.\n",
    "def load_data():\n",
    "    order = pd.read_excel(q1_ps + '/'+ os.listdir(q1_ps)[0])\n",
    "    offer = pd.read_excel(q1_ps + '/'+ os.listdir(q1_ps)[1])\n",
    "    offer = offer.rename({'Valid From':'valid_from', 'Valid To':'valid_to'}, axis = 1)\n",
    "    order['ORDER_DATE'] = pd.to_datetime(order['ORDER_DATE'])\n",
    "    offer['valid_from'] = pd.to_datetime(offer['valid_from'])\n",
    "    offer['valid_to']   = pd.to_datetime(offer['valid_to'])\n",
    "    return order, offer\n",
    "\n",
    "order = load_data()[0]\n",
    "offer = load_data()[1]"
   ]
  },
  {
   "cell_type": "markdown",
   "metadata": {},
   "source": [
    "# explore data"
   ]
  },
  {
   "cell_type": "code",
   "execution_count": 4,
   "metadata": {},
   "outputs": [
    {
     "data": {
      "text/plain": [
       "(0, (16069, 3))"
      ]
     },
     "execution_count": 4,
     "metadata": {},
     "output_type": "execute_result"
    }
   ],
   "source": [
    "# no non-ending data, all special offer have a due date.\n",
    "offer['valid_to'].isna().sum(), order.shape"
   ]
  },
  {
   "cell_type": "code",
   "execution_count": 5,
   "metadata": {},
   "outputs": [
    {
     "data": {
      "text/html": [
       "<div>\n",
       "<style scoped>\n",
       "    .dataframe tbody tr th:only-of-type {\n",
       "        vertical-align: middle;\n",
       "    }\n",
       "\n",
       "    .dataframe tbody tr th {\n",
       "        vertical-align: top;\n",
       "    }\n",
       "\n",
       "    .dataframe thead th {\n",
       "        text-align: right;\n",
       "    }\n",
       "</style>\n",
       "<table border=\"1\" class=\"dataframe\">\n",
       "  <thead>\n",
       "    <tr style=\"text-align: right;\">\n",
       "      <th></th>\n",
       "      <th>Product_No_Start_With</th>\n",
       "      <th>valid_from</th>\n",
       "      <th>valid_to</th>\n",
       "    </tr>\n",
       "  </thead>\n",
       "  <tbody>\n",
       "    <tr>\n",
       "      <th>46</th>\n",
       "      <td>7MF4635</td>\n",
       "      <td>2020-01-15</td>\n",
       "      <td>2021-11-30</td>\n",
       "    </tr>\n",
       "    <tr>\n",
       "      <th>47</th>\n",
       "      <td>7MF4635</td>\n",
       "      <td>2020-01-15</td>\n",
       "      <td>2021-11-30</td>\n",
       "    </tr>\n",
       "    <tr>\n",
       "      <th>48</th>\n",
       "      <td>7MF4635</td>\n",
       "      <td>2020-01-15</td>\n",
       "      <td>2021-11-30</td>\n",
       "    </tr>\n",
       "    <tr>\n",
       "      <th>96</th>\n",
       "      <td>C73451</td>\n",
       "      <td>2020-10-07</td>\n",
       "      <td>2021-11-30</td>\n",
       "    </tr>\n",
       "    <tr>\n",
       "      <th>97</th>\n",
       "      <td>C73451</td>\n",
       "      <td>2020-10-07</td>\n",
       "      <td>2021-11-30</td>\n",
       "    </tr>\n",
       "  </tbody>\n",
       "</table>\n",
       "</div>"
      ],
      "text/plain": [
       "   Product_No_Start_With valid_from   valid_to\n",
       "46               7MF4635 2020-01-15 2021-11-30\n",
       "47               7MF4635 2020-01-15 2021-11-30\n",
       "48               7MF4635 2020-01-15 2021-11-30\n",
       "96                C73451 2020-10-07 2021-11-30\n",
       "97                C73451 2020-10-07 2021-11-30"
      ]
     },
     "execution_count": 5,
     "metadata": {},
     "output_type": "execute_result"
    }
   ],
   "source": [
    "# for some products, multi special offer observed\n",
    "# just dups. not multi period of time.\n",
    "# which makes primary key in offer table : Product_No_Start_With\n",
    "# offer.groupby('Product_No_Start_With', as_index=False).count().sort_values('valid_from', ascending=False).head(7)\n",
    "offer[offer[\"Product_No_Start_With\"].isin(['7MF4635', 'C73451'])]"
   ]
  },
  {
   "cell_type": "code",
   "execution_count": 6,
   "metadata": {},
   "outputs": [],
   "source": [
    "# drop dups\n",
    "offer = offer.drop_duplicates() #98 -> 95"
   ]
  },
  {
   "cell_type": "code",
   "execution_count": 7,
   "metadata": {},
   "outputs": [
    {
     "data": {
      "text/html": [
       "<div>\n",
       "<style scoped>\n",
       "    .dataframe tbody tr th:only-of-type {\n",
       "        vertical-align: middle;\n",
       "    }\n",
       "\n",
       "    .dataframe tbody tr th {\n",
       "        vertical-align: top;\n",
       "    }\n",
       "\n",
       "    .dataframe thead th {\n",
       "        text-align: right;\n",
       "    }\n",
       "</style>\n",
       "<table border=\"1\" class=\"dataframe\">\n",
       "  <thead>\n",
       "    <tr style=\"text-align: right;\">\n",
       "      <th></th>\n",
       "      <th>ORDER_NO</th>\n",
       "      <th>PROD_NO</th>\n",
       "      <th>ORDER_DATE</th>\n",
       "    </tr>\n",
       "  </thead>\n",
       "  <tbody>\n",
       "    <tr>\n",
       "      <th>0</th>\n",
       "      <td>SPRNO001031780X</td>\n",
       "      <td>7MF0300</td>\n",
       "      <td>1</td>\n",
       "    </tr>\n",
       "    <tr>\n",
       "      <th>10718</th>\n",
       "      <td>SPRNO1911271185</td>\n",
       "      <td>7MF4233</td>\n",
       "      <td>1</td>\n",
       "    </tr>\n",
       "    <tr>\n",
       "      <th>10705</th>\n",
       "      <td>SPRNO1911261155</td>\n",
       "      <td>7ML1118</td>\n",
       "      <td>1</td>\n",
       "    </tr>\n",
       "    <tr>\n",
       "      <th>10706</th>\n",
       "      <td>SPRNO1911261155</td>\n",
       "      <td>7ML5050</td>\n",
       "      <td>1</td>\n",
       "    </tr>\n",
       "    <tr>\n",
       "      <th>10707</th>\n",
       "      <td>SPRNO1911261155</td>\n",
       "      <td>7ML5430</td>\n",
       "      <td>1</td>\n",
       "    </tr>\n",
       "  </tbody>\n",
       "</table>\n",
       "</div>"
      ],
      "text/plain": [
       "              ORDER_NO  PROD_NO  ORDER_DATE\n",
       "0      SPRNO001031780X  7MF0300           1\n",
       "10718  SPRNO1911271185  7MF4233           1\n",
       "10705  SPRNO1911261155  7ML1118           1\n",
       "10706  SPRNO1911261155  7ML5050           1\n",
       "10707  SPRNO1911261155  7ML5430           1"
      ]
     },
     "execution_count": 7,
     "metadata": {},
     "output_type": "execute_result"
    }
   ],
   "source": [
    "# primary key in order table ['ORDER_NO', 'PROD_NO']\n",
    "order.groupby(['ORDER_NO', 'PROD_NO'], as_index=False).count().sort_values('ORDER_DATE', ascending=False).head(5)"
   ]
  },
  {
   "cell_type": "code",
   "execution_count": 8,
   "metadata": {},
   "outputs": [
    {
     "data": {
      "text/html": [
       "<div>\n",
       "<style scoped>\n",
       "    .dataframe tbody tr th:only-of-type {\n",
       "        vertical-align: middle;\n",
       "    }\n",
       "\n",
       "    .dataframe tbody tr th {\n",
       "        vertical-align: top;\n",
       "    }\n",
       "\n",
       "    .dataframe thead th {\n",
       "        text-align: right;\n",
       "    }\n",
       "</style>\n",
       "<table border=\"1\" class=\"dataframe\">\n",
       "  <thead>\n",
       "    <tr style=\"text-align: right;\">\n",
       "      <th></th>\n",
       "      <th>Product_No_Start_With</th>\n",
       "      <th>valid_from</th>\n",
       "      <th>valid_to</th>\n",
       "      <th>key_len</th>\n",
       "      <th>key</th>\n",
       "    </tr>\n",
       "  </thead>\n",
       "  <tbody>\n",
       "    <tr>\n",
       "      <th>42</th>\n",
       "      <td>7MF1572</td>\n",
       "      <td>2019-09-24</td>\n",
       "      <td>2021-11-30</td>\n",
       "      <td>7</td>\n",
       "      <td>7MF15</td>\n",
       "    </tr>\n",
       "  </tbody>\n",
       "</table>\n",
       "</div>"
      ],
      "text/plain": [
       "   Product_No_Start_With valid_from   valid_to  key_len    key\n",
       "42               7MF1572 2019-09-24 2021-11-30        7  7MF15"
      ]
     },
     "execution_count": 8,
     "metadata": {},
     "output_type": "execute_result"
    }
   ],
   "source": [
    "# join key has multiple condition, check on it.\n",
    "# see if special offer might be created twice in different length.\n",
    "offer['key_len'] = offer['Product_No_Start_With'].apply(len)\n",
    "offer['key'] = offer['Product_No_Start_With'].str.slice(0,5)\n",
    "short_key = offer[offer['key_len'] < 7]['key']\n",
    "offer[offer['key_len'] == 7][offer[offer['key_len'] == 7]['key'].isin(short_key)]"
   ]
  },
  {
   "cell_type": "code",
   "execution_count": 9,
   "metadata": {},
   "outputs": [
    {
     "data": {
      "text/html": [
       "<div>\n",
       "<style scoped>\n",
       "    .dataframe tbody tr th:only-of-type {\n",
       "        vertical-align: middle;\n",
       "    }\n",
       "\n",
       "    .dataframe tbody tr th {\n",
       "        vertical-align: top;\n",
       "    }\n",
       "\n",
       "    .dataframe thead th {\n",
       "        text-align: right;\n",
       "    }\n",
       "</style>\n",
       "<table border=\"1\" class=\"dataframe\">\n",
       "  <thead>\n",
       "    <tr style=\"text-align: right;\">\n",
       "      <th></th>\n",
       "      <th>Product_No_Start_With</th>\n",
       "      <th>valid_from</th>\n",
       "      <th>valid_to</th>\n",
       "      <th>key_len</th>\n",
       "      <th>key</th>\n",
       "    </tr>\n",
       "  </thead>\n",
       "  <tbody>\n",
       "    <tr>\n",
       "      <th>41</th>\n",
       "      <td>7MF156</td>\n",
       "      <td>2019-09-24</td>\n",
       "      <td>2021-11-30</td>\n",
       "      <td>6</td>\n",
       "      <td>7MF15</td>\n",
       "    </tr>\n",
       "    <tr>\n",
       "      <th>42</th>\n",
       "      <td>7MF1572</td>\n",
       "      <td>2019-09-24</td>\n",
       "      <td>2021-11-30</td>\n",
       "      <td>7</td>\n",
       "      <td>7MF15</td>\n",
       "    </tr>\n",
       "  </tbody>\n",
       "</table>\n",
       "</div>"
      ],
      "text/plain": [
       "   Product_No_Start_With valid_from   valid_to  key_len    key\n",
       "41                7MF156 2019-09-24 2021-11-30        6  7MF15\n",
       "42               7MF1572 2019-09-24 2021-11-30        7  7MF15"
      ]
     },
     "execution_count": 9,
     "metadata": {},
     "output_type": "execute_result"
    }
   ],
   "source": [
    "offer[offer['key'] == '7MF15']\n",
    "# no special offer been created twice in different length."
   ]
  },
  {
   "cell_type": "markdown",
   "metadata": {},
   "source": [
    "# python solution"
   ]
  },
  {
   "cell_type": "code",
   "execution_count": 42,
   "metadata": {},
   "outputs": [],
   "source": [
    "def answer_11(order , offer, lefton):\n",
    "    \"\"\"\n",
    "    1. merge 3 times with regard to prod_no in different length.\n",
    "    2. put flag on data by time restriction.\n",
    "    3. save largest merged value.\n",
    "    \"\"\"\n",
    "    offer = offer.drop_duplicates()\n",
    "    order['prd6'] = order['PROD_NO'].str.slice(0,6)\n",
    "    order['prd5'] = order['PROD_NO'].str.slice(0,5) \n",
    "    df = order.merge(offer, left_on=lefton, right_on='Product_No_Start_With', how = 'left')\n",
    "    df['Flag'] = np.where((df['ORDER_DATE'] > df['valid_from']) & (df['ORDER_DATE'] < df['valid_to']), 1, 0) \n",
    "    return df[list(order.columns)+['Flag']]\n",
    "    # return df\n",
    "    \n",
    "a = pd.DataFrame()\n",
    "for i in ['PROD_NO', 'prd6', 'prd5']:\n",
    "    a = a.append(answer_11(order , offer, i))\n",
    "    \n",
    "answer_11py = a.sort_values(\n",
    "    [\n",
    "        'Flag','ORDER_NO', 'PROD_NO', 'ORDER_DATE'\n",
    "    ], ascending=False\n",
    "    ).groupby(\n",
    "        [\n",
    "            'ORDER_NO', 'PROD_NO', 'ORDER_DATE'\n",
    "        ], as_index=False\n",
    "        ).first().drop(['prd6', 'prd5'], axis = 1)"
   ]
  },
  {
   "cell_type": "code",
   "execution_count": 43,
   "metadata": {},
   "outputs": [
    {
     "data": {
      "text/plain": [
       "4910"
      ]
     },
     "execution_count": 43,
     "metadata": {},
     "output_type": "execute_result"
    }
   ],
   "source": [
    "answer_11py['Flag'].sum()"
   ]
  },
  {
   "cell_type": "markdown",
   "metadata": {},
   "source": [
    "> 4910"
   ]
  },
  {
   "cell_type": "code",
   "execution_count": 44,
   "metadata": {},
   "outputs": [
    {
     "data": {
      "text/html": [
       "<div>\n",
       "<style scoped>\n",
       "    .dataframe tbody tr th:only-of-type {\n",
       "        vertical-align: middle;\n",
       "    }\n",
       "\n",
       "    .dataframe tbody tr th {\n",
       "        vertical-align: top;\n",
       "    }\n",
       "\n",
       "    .dataframe thead th {\n",
       "        text-align: right;\n",
       "    }\n",
       "</style>\n",
       "<table border=\"1\" class=\"dataframe\">\n",
       "  <thead>\n",
       "    <tr style=\"text-align: right;\">\n",
       "      <th></th>\n",
       "      <th>ORDER_NO</th>\n",
       "      <th>PROD_NO</th>\n",
       "      <th>ORDER_DATE</th>\n",
       "      <th>Flag</th>\n",
       "    </tr>\n",
       "  </thead>\n",
       "  <tbody>\n",
       "    <tr>\n",
       "      <th>0</th>\n",
       "      <td>SPRNO001031780X</td>\n",
       "      <td>7MF0300</td>\n",
       "      <td>2020-01-17 14:10:46</td>\n",
       "      <td>0</td>\n",
       "    </tr>\n",
       "    <tr>\n",
       "      <th>1</th>\n",
       "      <td>SPRNO001031780X</td>\n",
       "      <td>7MF0810</td>\n",
       "      <td>2020-01-17 14:10:46</td>\n",
       "      <td>0</td>\n",
       "    </tr>\n",
       "    <tr>\n",
       "      <th>2</th>\n",
       "      <td>SPRNO001031780X</td>\n",
       "      <td>7MF4033</td>\n",
       "      <td>2020-01-17 14:10:46</td>\n",
       "      <td>0</td>\n",
       "    </tr>\n",
       "    <tr>\n",
       "      <th>3</th>\n",
       "      <td>SPRNO001031780X</td>\n",
       "      <td>7MF4920</td>\n",
       "      <td>2020-01-17 14:10:46</td>\n",
       "      <td>1</td>\n",
       "    </tr>\n",
       "    <tr>\n",
       "      <th>4</th>\n",
       "      <td>SPRNO001031780X</td>\n",
       "      <td>7MF4980</td>\n",
       "      <td>2020-01-17 14:10:46</td>\n",
       "      <td>0</td>\n",
       "    </tr>\n",
       "    <tr>\n",
       "      <th>...</th>\n",
       "      <td>...</td>\n",
       "      <td>...</td>\n",
       "      <td>...</td>\n",
       "      <td>...</td>\n",
       "    </tr>\n",
       "    <tr>\n",
       "      <th>16064</th>\n",
       "      <td>SPRNO912061382X</td>\n",
       "      <td>7MF4433</td>\n",
       "      <td>2019-12-06 16:01:31</td>\n",
       "      <td>0</td>\n",
       "    </tr>\n",
       "    <tr>\n",
       "      <th>16065</th>\n",
       "      <td>SPRNO912061382X</td>\n",
       "      <td>7MF4923</td>\n",
       "      <td>2019-12-06 16:01:31</td>\n",
       "      <td>1</td>\n",
       "    </tr>\n",
       "    <tr>\n",
       "      <th>16066</th>\n",
       "      <td>SPRNO912061382X</td>\n",
       "      <td>A5E4914</td>\n",
       "      <td>2019-12-06 16:01:31</td>\n",
       "      <td>0</td>\n",
       "    </tr>\n",
       "    <tr>\n",
       "      <th>16067</th>\n",
       "      <td>SPRNO912271689X</td>\n",
       "      <td>7MF4635</td>\n",
       "      <td>2020-03-13 09:57:26</td>\n",
       "      <td>1</td>\n",
       "    </tr>\n",
       "    <tr>\n",
       "      <th>16068</th>\n",
       "      <td>SPRNO912271689X</td>\n",
       "      <td>7MF4912</td>\n",
       "      <td>2020-03-13 09:57:26</td>\n",
       "      <td>1</td>\n",
       "    </tr>\n",
       "  </tbody>\n",
       "</table>\n",
       "<p>16069 rows × 4 columns</p>\n",
       "</div>"
      ],
      "text/plain": [
       "              ORDER_NO  PROD_NO          ORDER_DATE  Flag\n",
       "0      SPRNO001031780X  7MF0300 2020-01-17 14:10:46     0\n",
       "1      SPRNO001031780X  7MF0810 2020-01-17 14:10:46     0\n",
       "2      SPRNO001031780X  7MF4033 2020-01-17 14:10:46     0\n",
       "3      SPRNO001031780X  7MF4920 2020-01-17 14:10:46     1\n",
       "4      SPRNO001031780X  7MF4980 2020-01-17 14:10:46     0\n",
       "...                ...      ...                 ...   ...\n",
       "16064  SPRNO912061382X  7MF4433 2019-12-06 16:01:31     0\n",
       "16065  SPRNO912061382X  7MF4923 2019-12-06 16:01:31     1\n",
       "16066  SPRNO912061382X  A5E4914 2019-12-06 16:01:31     0\n",
       "16067  SPRNO912271689X  7MF4635 2020-03-13 09:57:26     1\n",
       "16068  SPRNO912271689X  7MF4912 2020-03-13 09:57:26     1\n",
       "\n",
       "[16069 rows x 4 columns]"
      ]
     },
     "execution_count": 44,
     "metadata": {},
     "output_type": "execute_result"
    }
   ],
   "source": [
    "answer_11py"
   ]
  },
  {
   "cell_type": "markdown",
   "metadata": {},
   "source": [
    "# SQL"
   ]
  },
  {
   "cell_type": "code",
   "execution_count": 6,
   "metadata": {},
   "outputs": [],
   "source": [
    "from pandasql import sqldf \n",
    "order_df = order\n",
    "pysqldf = lambda q: sqldf(q, globals())\n",
    "sql = \"\"\"\n",
    "    SELECT \n",
    "    ORDER_NO, \n",
    "    PROD_NO, \n",
    "    ORDER_DATE,\n",
    "    case when (\n",
    "        b.Product_No_Start_With is not null\n",
    "        )\n",
    "    then 1\n",
    "    else 0 end as Flag\n",
    "    from order_df as a \n",
    "    left join\n",
    "    (\n",
    "        select *, row_number() over(\n",
    "            partition by Product_No_Start_With, valid_from, valid_to\n",
    "            ) as rn \n",
    "        from offer \n",
    "    ) as b\n",
    "    on substr(a.PROD_NO, 1, length(b.Product_No_Start_With)) = b.Product_No_Start_With\n",
    "    and b.rn = 1\n",
    "    and (\n",
    "        a.ORDER_DATE between b.valid_from and b.valid_to \n",
    "        or \n",
    "        b.valid_from is null\n",
    "        )\n",
    "\"\"\"\n",
    "\n",
    "answer_11sql = pysqldf(sql)"
   ]
  },
  {
   "cell_type": "markdown",
   "metadata": {},
   "source": [
    "answer_11sql['Flag'].sum()"
   ]
  },
  {
   "cell_type": "markdown",
   "metadata": {},
   "source": [
    "> 4910"
   ]
  },
  {
   "cell_type": "code",
   "execution_count": 8,
   "metadata": {},
   "outputs": [
    {
     "data": {
      "text/html": [
       "<div>\n",
       "<style scoped>\n",
       "    .dataframe tbody tr th:only-of-type {\n",
       "        vertical-align: middle;\n",
       "    }\n",
       "\n",
       "    .dataframe tbody tr th {\n",
       "        vertical-align: top;\n",
       "    }\n",
       "\n",
       "    .dataframe thead th {\n",
       "        text-align: right;\n",
       "    }\n",
       "</style>\n",
       "<table border=\"1\" class=\"dataframe\">\n",
       "  <thead>\n",
       "    <tr style=\"text-align: right;\">\n",
       "      <th></th>\n",
       "      <th>ORDER_NO</th>\n",
       "      <th>PROD_NO</th>\n",
       "      <th>ORDER_DATE</th>\n",
       "      <th>Flag</th>\n",
       "    </tr>\n",
       "  </thead>\n",
       "  <tbody>\n",
       "    <tr>\n",
       "      <th>0</th>\n",
       "      <td>SPRNO1810170249</td>\n",
       "      <td>7ME6580</td>\n",
       "      <td>2018-10-17 11:02:14.000000</td>\n",
       "      <td>0</td>\n",
       "    </tr>\n",
       "    <tr>\n",
       "      <th>1</th>\n",
       "      <td>SPRNO1810170249</td>\n",
       "      <td>7ME6920</td>\n",
       "      <td>2018-10-17 11:02:14.000000</td>\n",
       "      <td>0</td>\n",
       "    </tr>\n",
       "    <tr>\n",
       "      <th>2</th>\n",
       "      <td>SPRNO1810170249</td>\n",
       "      <td>7MF4033</td>\n",
       "      <td>2018-10-17 11:02:14.000000</td>\n",
       "      <td>0</td>\n",
       "    </tr>\n",
       "    <tr>\n",
       "      <th>3</th>\n",
       "      <td>SPRNO1810170249</td>\n",
       "      <td>7MF4233</td>\n",
       "      <td>2018-10-17 11:02:14.000000</td>\n",
       "      <td>0</td>\n",
       "    </tr>\n",
       "    <tr>\n",
       "      <th>4</th>\n",
       "      <td>SPRNO1810170249</td>\n",
       "      <td>7MF4433</td>\n",
       "      <td>2018-10-17 11:02:14.000000</td>\n",
       "      <td>0</td>\n",
       "    </tr>\n",
       "    <tr>\n",
       "      <th>...</th>\n",
       "      <td>...</td>\n",
       "      <td>...</td>\n",
       "      <td>...</td>\n",
       "      <td>...</td>\n",
       "    </tr>\n",
       "    <tr>\n",
       "      <th>16064</th>\n",
       "      <td>SPRNO2011120701</td>\n",
       "      <td>7ML5430</td>\n",
       "      <td>2020-11-12 18:10:41.000000</td>\n",
       "      <td>1</td>\n",
       "    </tr>\n",
       "    <tr>\n",
       "      <th>16065</th>\n",
       "      <td>SPRNO2011120701</td>\n",
       "      <td>7ML5431</td>\n",
       "      <td>2020-11-12 18:10:41.000000</td>\n",
       "      <td>1</td>\n",
       "    </tr>\n",
       "    <tr>\n",
       "      <th>16066</th>\n",
       "      <td>SPRNO2011120701</td>\n",
       "      <td>7ML5830</td>\n",
       "      <td>2020-11-12 18:10:41.000000</td>\n",
       "      <td>0</td>\n",
       "    </tr>\n",
       "    <tr>\n",
       "      <th>16067</th>\n",
       "      <td>SPRNO2011130715</td>\n",
       "      <td>7ME4100</td>\n",
       "      <td>2020-11-13 12:20:13.000000</td>\n",
       "      <td>1</td>\n",
       "    </tr>\n",
       "    <tr>\n",
       "      <th>16068</th>\n",
       "      <td>SPRNO2011130715</td>\n",
       "      <td>7ME4110</td>\n",
       "      <td>2020-11-13 12:20:13.000000</td>\n",
       "      <td>1</td>\n",
       "    </tr>\n",
       "  </tbody>\n",
       "</table>\n",
       "<p>16069 rows × 4 columns</p>\n",
       "</div>"
      ],
      "text/plain": [
       "              ORDER_NO  PROD_NO                  ORDER_DATE  Flag\n",
       "0      SPRNO1810170249  7ME6580  2018-10-17 11:02:14.000000     0\n",
       "1      SPRNO1810170249  7ME6920  2018-10-17 11:02:14.000000     0\n",
       "2      SPRNO1810170249  7MF4033  2018-10-17 11:02:14.000000     0\n",
       "3      SPRNO1810170249  7MF4233  2018-10-17 11:02:14.000000     0\n",
       "4      SPRNO1810170249  7MF4433  2018-10-17 11:02:14.000000     0\n",
       "...                ...      ...                         ...   ...\n",
       "16064  SPRNO2011120701  7ML5430  2020-11-12 18:10:41.000000     1\n",
       "16065  SPRNO2011120701  7ML5431  2020-11-12 18:10:41.000000     1\n",
       "16066  SPRNO2011120701  7ML5830  2020-11-12 18:10:41.000000     0\n",
       "16067  SPRNO2011130715  7ME4100  2020-11-13 12:20:13.000000     1\n",
       "16068  SPRNO2011130715  7ME4110  2020-11-13 12:20:13.000000     1\n",
       "\n",
       "[16069 rows x 4 columns]"
      ]
     },
     "execution_count": 8,
     "metadata": {},
     "output_type": "execute_result"
    }
   ],
   "source": [
    "answer_11sql"
   ]
  }
 ],
 "metadata": {
  "interpreter": {
   "hash": "47b50d2908d96196e4220cfb4e81faa93803065ea975497e7026f672c1f58470"
  },
  "kernelspec": {
   "display_name": "Python 3.8.8 64-bit ('siming': conda)",
   "name": "python3"
  },
  "language_info": {
   "codemirror_mode": {
    "name": "ipython",
    "version": 3
   },
   "file_extension": ".py",
   "mimetype": "text/x-python",
   "name": "python",
   "nbconvert_exporter": "python",
   "pygments_lexer": "ipython3",
   "version": "3.8.8"
  },
  "orig_nbformat": 4
 },
 "nbformat": 4,
 "nbformat_minor": 2
}
